{
 "cells": [
  {
   "cell_type": "markdown",
   "metadata": {},
   "source": [
    "Given the code below, insert the correct negative index on line 3 in order to get the last character in the string."
   ]
  },
  {
   "cell_type": "code",
   "execution_count": 2,
   "metadata": {},
   "outputs": [
    {
     "name": "stdout",
     "output_type": "stream",
     "text": [
      ".\n"
     ]
    }
   ],
   "source": [
    "my_string = \"In 2010, someone paid 10k Bitcoin for two pizzas.\"\n",
    "\n",
    "print(my_string[-1])"
   ]
  },
  {
   "cell_type": "markdown",
   "metadata": {},
   "source": [
    "<p>Given the code below, insert the correct positive index on line 3 in order to return the comma character from the string.</p>"
   ]
  },
  {
   "cell_type": "code",
   "execution_count": 1,
   "metadata": {},
   "outputs": [
    {
     "name": "stdout",
     "output_type": "stream",
     "text": [
      ",\n"
     ]
    }
   ],
   "source": [
    "my_string = \"In 2010, someone paid 10k Bitcoin for two pizzas.\"\n",
    "\n",
    "print(my_string[7])"
   ]
  },
  {
   "cell_type": "markdown",
   "metadata": {},
   "source": [
    "<p>Given the code below, insert the correct negative index on line 3 in order to return the <strong>w </strong>character from the string.</p>"
   ]
  },
  {
   "cell_type": "code",
   "execution_count": 3,
   "metadata": {},
   "outputs": [
    {
     "name": "stdout",
     "output_type": "stream",
     "text": [
      "w\n"
     ]
    }
   ],
   "source": [
    "my_string = \"In 2010, someone paid 10k Bitcoin for two pizzas.\"\n",
    "\n",
    "print(my_string[-10])"
   ]
  },
  {
   "cell_type": "markdown",
   "metadata": {},
   "source": [
    "<p>Given the code below, insert the correct method on line 3 in order to return the index of the <strong>B </strong>character in the string.</p>"
   ]
  },
  {
   "cell_type": "code",
   "execution_count": 6,
   "metadata": {},
   "outputs": [
    {
     "name": "stdout",
     "output_type": "stream",
     "text": [
      "26\n"
     ]
    }
   ],
   "source": [
    "my_string = \"In 2010, someone paid 10k Bitcoin for two pizzas.\"\n",
    "\n",
    "print(my_string.index(\"B\"))"
   ]
  },
  {
   "cell_type": "markdown",
   "metadata": {},
   "source": [
    "<p>Given the code below, insert the correct method on line 3 in order to return the number of occurrences of the letter <strong>o </strong>in the string.</p>"
   ]
  },
  {
   "cell_type": "code",
   "execution_count": 7,
   "metadata": {},
   "outputs": [
    {
     "name": "stdout",
     "output_type": "stream",
     "text": [
      "5\n"
     ]
    }
   ],
   "source": [
    "my_string = \"In 2010, someone paid 10k Bitcoin for two pizzas.\"\n",
    "\n",
    "print(my_string.count(\"o\"))"
   ]
  },
  {
   "cell_type": "markdown",
   "metadata": {},
   "source": [
    "<p>Given the code below, insert the correct method on line 3 in order to convert all letters in the string to uppercase.</p>"
   ]
  },
  {
   "cell_type": "code",
   "execution_count": 8,
   "metadata": {},
   "outputs": [
    {
     "name": "stdout",
     "output_type": "stream",
     "text": [
      "IN 2010, SOMEONE PAID 10K BITCOIN FOR TWO PIZZAS.\n"
     ]
    }
   ],
   "source": [
    "my_string = \"In 2010, someone paid 10k Bitcoin for two pizzas.\"\n",
    "\n",
    "print(my_string.upper())"
   ]
  },
  {
   "cell_type": "markdown",
   "metadata": {},
   "source": [
    "<p>Given the code below, insert the correct method on line 3 in order to get the index at which the substring <strong>Bitcoin </strong>starts.</p>"
   ]
  },
  {
   "cell_type": "code",
   "execution_count": 1,
   "metadata": {},
   "outputs": [
    {
     "name": "stdout",
     "output_type": "stream",
     "text": [
      "26\n"
     ]
    }
   ],
   "source": [
    "my_string = \"In 2010, someone paid 10k Bitcoin for two pizzas.\"\n",
    " \n",
    "print(my_string.index(\"Bitcoin\"))"
   ]
  },
  {
   "cell_type": "markdown",
   "metadata": {},
   "source": [
    "<p>Given the code below, insert the correct method on line 3 in order to check of the string starts with the letter <strong>X</strong>.</p>"
   ]
  },
  {
   "cell_type": "code",
   "execution_count": null,
   "metadata": {},
   "outputs": [],
   "source": [
    "my_string = \"In 2010, someone paid 10k Bitcoin for two pizzas.\"\n",
    "\n",
    "print(my_string.startswith(\"X\"))"
   ]
  },
  {
   "cell_type": "markdown",
   "metadata": {},
   "source": [
    "<p>Given the code below, insert the correct method on line 3 in order to convert all uppercase letters to lowercase and all lowercase letters to uppercase.</p>"
   ]
  },
  {
   "cell_type": "code",
   "execution_count": null,
   "metadata": {},
   "outputs": [],
   "source": [
    "my_string = \"In 2010, someone paid 10k Bitcoin for two pizzas.\"\n",
    "\n",
    "print(my_string.swapcase())"
   ]
  },
  {
   "cell_type": "markdown",
   "metadata": {},
   "source": [
    "<p>Given the code below, insert the correct method on line 3 in order to remove all spaces (single Space characters from the keyboard) from the string.</p>"
   ]
  },
  {
   "cell_type": "code",
   "execution_count": 12,
   "metadata": {},
   "outputs": [
    {
     "name": "stdout",
     "output_type": "stream",
     "text": [
      "In2010,someonepaid10kBitcoinfortwopizzas.\n"
     ]
    }
   ],
   "source": [
    "my_string = \"In 2010, someone paid 10k Bitcoin for two pizzas.\"\n",
    "\n",
    "print(my_string.replace(\" \",\"\"))"
   ]
  },
  {
   "cell_type": "markdown",
   "metadata": {},
   "source": [
    "<p>Given the code below, insert the correct method on line 3 in order to replace all the occurrences of letter <strong>i </strong>with the substring <strong>btc</strong>.</p>"
   ]
  },
  {
   "cell_type": "code",
   "execution_count": 11,
   "metadata": {},
   "outputs": [
    {
     "name": "stdout",
     "output_type": "stream",
     "text": [
      "In 2010, someone pabtcd 10k Bbtctcobtcn for two pbtczzas.\n"
     ]
    }
   ],
   "source": [
    "my_string = \"In 2010, someone paid 10k Bitcoin for two pizzas.\"\n",
    " \n",
    "print(my_string.replace(\"i\",\"btc\"))"
   ]
  },
  {
   "cell_type": "markdown",
   "metadata": {},
   "source": [
    "<p>Given the code below, insert the correct method on line 3 in order to split the entire string in two parts, using the comma as a delimiter.</p>"
   ]
  },
  {
   "cell_type": "code",
   "execution_count": 26,
   "metadata": {},
   "outputs": [
    {
     "name": "stdout",
     "output_type": "stream",
     "text": [
      "['In 2010', ' someone paid 10k Bitcoin for two pizzas.']\n",
      "['In', '2010,', 'someone', 'paid', '10k', 'Bitcoin', 'for', 'two', 'pizzas.']\n",
      "['I', ' 2010, someo', 'e paid 10k Bitcoi', ' for two pizzas.']\n"
     ]
    }
   ],
   "source": [
    "my_string = \"In 2010, someone paid 10k Bitcoin for two pizzas.\"\n",
    "\n",
    "print(my_string.split(\",\"))   # virgulu bulunca ondan itibaren bölüyor. separatör olarak algilaniyor.\n",
    "print(my_string.split(my_string[8])) \n",
    "print(my_string.split(my_string[1]))"
   ]
  },
  {
   "cell_type": "code",
   "execution_count": 31,
   "metadata": {},
   "outputs": [
    {
     "name": "stdout",
     "output_type": "stream",
     "text": [
      "['Asli,Ali', 'Lale']\n"
     ]
    }
   ],
   "source": [
    "x = \"Asli,Ali Lale\"\n",
    "print(x.split())"
   ]
  },
  {
   "cell_type": "code",
   "execution_count": 1,
   "metadata": {},
   "outputs": [
    {
     "name": "stdout",
     "output_type": "stream",
     "text": [
      "['1', '2', '3 4']\n",
      "['1,2,3', '4']\n"
     ]
    }
   ],
   "source": [
    "x = \"1,2,3 4\"\n",
    "print(x.split(\",\"))\n",
    "print(x.split())"
   ]
  },
  {
   "cell_type": "markdown",
   "metadata": {},
   "source": [
    "<p>Given the code below, insert the correct method on line 3 in order to join the characters of the string using the <strong>&amp; </strong>symbol as a delimiter.</p>"
   ]
  },
  {
   "cell_type": "code",
   "execution_count": 4,
   "metadata": {},
   "outputs": [
    {
     "name": "stdout",
     "output_type": "stream",
     "text": [
      "I&n& &2&0&1&0&,& &s&o&m&e&o&n&e& &p&a&i&d& &1&0&k& &B&i&t&c&o&i&n& &f&o&r& &t&w&o& &p&i&z&z&a&s&.\n"
     ]
    }
   ],
   "source": [
    "my_string = \"In 2010, someone paid 10k Bitcoin for two pizzas.\"\n",
    "\n",
    "print(\"&\".join(my_string))"
   ]
  },
  {
   "cell_type": "markdown",
   "metadata": {},
   "source": [
    "<p>Given the code below, insert the correct code on line 4 in order to concatenate <strong>my_string</strong> with the following string:</p><code>my_other_string = \"Poor guy!\"</code>"
   ]
  },
  {
   "cell_type": "code",
   "execution_count": null,
   "metadata": {},
   "outputs": [],
   "source": [
    "my_string = \"In 2010, someone paid 10k Bitcoin for two pizzas.\"\n",
    "my_other_string = \"Poor guy!\"\n",
    "\n",
    "print(my_string+my_other_string)"
   ]
  },
  {
   "cell_type": "markdown",
   "metadata": {},
   "source": [
    "<p>Given the code below, insert the correct method on line 3 in order to convert the first letter of each word in the string to uppercase.</p>"
   ]
  },
  {
   "cell_type": "code",
   "execution_count": null,
   "metadata": {},
   "outputs": [],
   "source": [
    "my_string = \"In 2010, someone paid 10k Bitcoin for two pizzas.\"\n",
    "\n",
    "print(my_string.title())"
   ]
  },
  {
   "cell_type": "markdown",
   "metadata": {},
   "source": [
    "<p>Given the code below, use string formatting with the <strong>format()</strong> method on line 3 to map the values of <strong>2010</strong>, <strong>10k </strong>and <strong>Bitcoin </strong>to the corresponding formatting operators.</p>"
   ]
  },
  {
   "cell_type": "code",
   "execution_count": 6,
   "metadata": {},
   "outputs": [
    {
     "name": "stdout",
     "output_type": "stream",
     "text": [
      "In 2010, someone paid 10k Bitcoin for two pizzas.\n"
     ]
    }
   ],
   "source": [
    "my_string = \"In {}, someone paid {} {} for two pizzas.\"\n",
    "\n",
    "print(my_string.format(2010,\"10k\",\"Bitcoin\"))  # oder \"string\".format()"
   ]
  },
  {
   "cell_type": "markdown",
   "metadata": {},
   "source": [
    "<p>Given the code below, use slicing and insert the correct code on line 3 in order to return the substring <strong>2010 </strong>from the string. Use positive indexes!</p>"
   ]
  },
  {
   "cell_type": "code",
   "execution_count": 8,
   "metadata": {},
   "outputs": [
    {
     "name": "stdout",
     "output_type": "stream",
     "text": [
      "2010\n"
     ]
    }
   ],
   "source": [
    "my_string = \"In 2010, someone paid 10k Bitcoin for two pizzas.\"\n",
    "\n",
    "print(my_string[3:7])"
   ]
  },
  {
   "cell_type": "markdown",
   "metadata": {},
   "source": [
    "<p>Given the code below, use slicing and insert the correct code on line 3 in order to return the substring <strong>Bitcoin </strong>from the string. Use negative indexes!</p>"
   ]
  },
  {
   "cell_type": "code",
   "execution_count": 9,
   "metadata": {},
   "outputs": [
    {
     "name": "stdout",
     "output_type": "stream",
     "text": [
      "Bitcoin\n"
     ]
    }
   ],
   "source": [
    "my_string = \"In 2010, someone paid 10k Bitcoin for two pizzas.\"\n",
    "\n",
    "print(my_string[-23:-16])"
   ]
  },
  {
   "cell_type": "markdown",
   "metadata": {},
   "source": [
    "<p>Given the code below, use slicing and insert the correct code on line 3 in order to return the first 12 characters in the string. Use a single, positive index!</p>"
   ]
  },
  {
   "cell_type": "code",
   "execution_count": 11,
   "metadata": {},
   "outputs": [
    {
     "name": "stdout",
     "output_type": "stream",
     "text": [
      "In 2010, som\n"
     ]
    }
   ],
   "source": [
    "my_string = \"In 2010, someone paid 10k Bitcoin for two pizzas.\"\n",
    "\n",
    "print(my_string[:12])"
   ]
  },
  {
   "cell_type": "markdown",
   "metadata": {},
   "source": [
    "<p>Given the code below, use slicing and insert the correct code on line 3 in order to return the last 9 characters of the string. Use a single, negative index!</p>"
   ]
  },
  {
   "cell_type": "code",
   "execution_count": 15,
   "metadata": {},
   "outputs": [
    {
     "name": "stdout",
     "output_type": "stream",
     "text": [
      "o pizzas.\n"
     ]
    }
   ],
   "source": [
    "my_string = \"In 2010, someone paid 10k Bitcoin for two pizzas.\"\n",
    "\n",
    "print(my_string[-9:])"
   ]
  },
  {
   "cell_type": "markdown",
   "metadata": {},
   "source": [
    "<p>Given the code below, use slicing and insert the correct code on line 3 in order to return the entire string in reversed order.</p>"
   ]
  },
  {
   "cell_type": "code",
   "execution_count": null,
   "metadata": {},
   "outputs": [],
   "source": [
    "my_string = \"In 2010, someone paid 10k Bitcoin for two pizzas.\"\n",
    "\n",
    "print(my_string[::-1])"
   ]
  },
  {
   "cell_type": "markdown",
   "metadata": {},
   "source": [
    "<p>Given the code below, use slicing and insert the correct code on line 3 in order to return every 7th character of the string, starting with the first character.</p><p>The final result should be <code>I,n top</code></p>"
   ]
  },
  {
   "cell_type": "code",
   "execution_count": null,
   "metadata": {},
   "outputs": [],
   "source": [
    "my_string = \"In 2010, someone paid 10k Bitcoin for two pizzas.\"\n",
    "\n",
    "print(my_string[::7])"
   ]
  },
  {
   "cell_type": "markdown",
   "metadata": {},
   "source": [
    "<p>Given the code below, use slicing and insert the correct code on line 3 in order to return the string except the first 10 characters. Use a single, positive index!</p>"
   ]
  },
  {
   "cell_type": "code",
   "execution_count": null,
   "metadata": {},
   "outputs": [],
   "source": [
    "my_string = \"In 2010, someone paid 10k Bitcoin for two pizzas.\"\n",
    "\n",
    "print(my_string[10:])"
   ]
  },
  {
   "cell_type": "markdown",
   "metadata": {},
   "source": [
    "<p>Given the code below, use slicing and insert the correct code on line 3 in order to return the string except the last 4 characters. Use a single, negative index!</p>"
   ]
  },
  {
   "cell_type": "code",
   "execution_count": null,
   "metadata": {},
   "outputs": [],
   "source": [
    "my_string = \"In 2010, someone paid 10k Bitcoin for two pizzas.\"\n",
    "\n",
    "print(my_string[:-4])"
   ]
  }
 ],
 "metadata": {
  "kernelspec": {
   "display_name": "Python 3",
   "language": "python",
   "name": "python3"
  },
  "language_info": {
   "codemirror_mode": {
    "name": "ipython",
    "version": 3
   },
   "file_extension": ".py",
   "mimetype": "text/x-python",
   "name": "python",
   "nbconvert_exporter": "python",
   "pygments_lexer": "ipython3",
   "version": "3.11.1"
  },
  "orig_nbformat": 4,
  "vscode": {
   "interpreter": {
    "hash": "ec7e8c5f221ede34fcb59adf6ebad19b5fdf6bcf45ce6f5542b63bd5586000b8"
   }
  }
 },
 "nbformat": 4,
 "nbformat_minor": 2
}
