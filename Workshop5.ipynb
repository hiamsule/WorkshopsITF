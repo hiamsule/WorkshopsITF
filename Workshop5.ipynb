{
 "cells": [
  {
   "cell_type": "markdown",
   "metadata": {},
   "source": [
    "<center><img src=\"https://github.com/aaron-clarusway/fullstack/blob/master/itf-logo.png?raw=true\"  alt=\"alt text\" width=\"200\"/></center>\n",
    "<br>\n",
    "<h1><p style=\"text-align: center; color:darkblue\">Python Basic</p><h1>\n",
    "<center><h1>Workshop - 5</h1></center>\n",
    "<p><img align=\"right\"\n",
    "  src=\"https://secure.meetupstatic.com/photos/event/3/1/b/9/600_488352729.jpeg\"  width=\"15px\"></p>\n",
    "<br>\n",
    "\n",
    "\n",
    "# Subject: Collections - Control Flow Statements"
   ]
  },
  {
   "attachments": {},
   "cell_type": "markdown",
   "metadata": {},
   "source": [
    "## Coding Challenge-1 : Find the Largest Number\n",
    "\n",
    "Purpose of the this coding challenge is to solve a simple sorting problem in Python.\n",
    "\n",
    "### Learning Outcomes\n",
    "\n",
    "At the end of the this coding challenge, students will be able to;\n",
    "\n",
    "- get a basic understanding of sorting algorithms.\n",
    "- demonstrate their knowledge of lists in python\n",
    "- implement loops to solve the problems in python\n",
    "- get a better understanding of computational thinking concepts\n",
    "Bu kodlama yarışmasının sonunda öğrenciler;\n",
    "\n",
    "- sıralama algoritmaları hakkında temel bir anlayış edinin.\n",
    "- python'daki listeler hakkındaki bilgilerini göstermek\n",
    "- python'daki sorunları çözmek için döngüler uygulayın\n",
    "- hesaplamalı düşünme kavramlarını daha iyi anlamak\n",
    "\n",
    "### Problem Statement\n",
    "  \n",
    "- Write a python code that finds the largest number among the ``n`` numbers given by the user as input.\n",
    "\n",
    "- First, take `n` from the user, then take `n` numbers one by one and select-print the largest one.\n",
    "\n",
    "- It is forbidden to use ``max()`` function.  \n",
    "\n",
    "- Indicate which computational thinking concepts have you used.\n",
    "\n",
    "- Example for user inputs and respective outputs\n",
    "- Kullanıcının girdi olarak verdiği ``n`` sayılar arasından en büyüğünü bulan bir python kodu yazınız.\n",
    "\n",
    "- Önce kullanıcıdan `n` alın, ardından `n` sayıları tek tek alın ve en büyüğünü seçip yazdırın.\n",
    "\n",
    "- ``max()`` işlevinin kullanılması yasaktır.\n",
    "\n",
    "- Hangi bilişimsel düşünme kavramlarını kullandığınızı belirtin.\n",
    "\n",
    "- Kullanıcı girişleri ve ilgili çıkışlar için örnek\n",
    "\n",
    "```text\n",
    "Input                Output\n",
    "---------------:     -------------------------:\n",
    "n = 5, 1 2 3 4 5     The largest number is:  5\n",
    "n = 3, 67 85 19      The largest number is:  85\n",
    "```"
   ]
  },
  {
   "cell_type": "markdown",
   "metadata": {},
   "source": [
    "### Solution :"
   ]
  },
  {
   "cell_type": "code",
   "execution_count": 5,
   "metadata": {},
   "outputs": [
    {
     "name": "stdout",
     "output_type": "stream",
     "text": [
      "En Büyük: 100\n"
     ]
    }
   ],
   "source": [
    "en_büyük=0\n",
    "m=0\n",
    "while len(x)>m:\n",
    "    x=(input(\"Birkac Sayiyi Virgülle Ayirarak Giriniz\").split(\",\"))\n",
    "    for i in x:\n",
    "        if int(i)>en_büyük:\n",
    "            en_büyük=int(i)\n",
    "        m+=1\n",
    "\n",
    "print(f\"En Büyük: {i}\")\n",
    "        "
   ]
  },
  {
   "cell_type": "code",
   "execution_count": 15,
   "metadata": {},
   "outputs": [
    {
     "name": "stdout",
     "output_type": "stream",
     "text": [
      "En Büyük: 8\n"
     ]
    }
   ],
   "source": [
    "enbüyük=0\n",
    "m=[]\n",
    "j=int(input(\"Kac Tane Sayi Girmek Istersiniz\"))\n",
    "for i in range(j):\n",
    "    sayi=input(\"Sayi Giriniz\")\n",
    "    m.append(sayi)\n",
    "    if enbüyük<int(m[-1]):\n",
    "        enbüyük=int(m[-1])\n",
    "print(f\"En Büyük: {enbüyük}\")\n"
   ]
  },
  {
   "cell_type": "code",
   "execution_count": 4,
   "metadata": {},
   "outputs": [
    {
     "name": "stdout",
     "output_type": "stream",
     "text": [
      "How many numbers will you enter?7\n",
      "Please enter the number: 6\n",
      "Please enter the number: 6\n",
      "Please enter the number: 6\n",
      "Please enter the number: 6\n",
      "Please enter the number: 6\n",
      "Please enter the number: 6\n",
      "Please enter the number: 65\n",
      "The largest number is :  65\n"
     ]
    }
   ],
   "source": []
  },
  {
   "attachments": {},
   "cell_type": "markdown",
   "metadata": {},
   "source": [
    "## Coding Challenge-2 : Group Anagrams\n",
    "\n",
    "Purpose of the this coding challenge is to solve a grouping algorithm in Python.\n",
    "\n",
    "### Learning Outcomes\n",
    "\n",
    "At the end of the this coding challenge, students will be able to;\n",
    "\n",
    "- get a basic understanding of grouping algorithms.\n",
    "- demonstrate their knowledge of lists, dicts in python\n",
    "- implement loops to solve the problems in python\n",
    "- get a better understanding of computational thinking concepts\n",
    "Bu kodlama yarışmasının sonunda öğrenciler;\n",
    "\n",
    "- gruplandırma algoritmaları hakkında temel bir anlayış elde edin.\n",
    "- python'daki listeler, dikteler hakkındaki bilgilerini göstermek\n",
    "- python'daki sorunları çözmek için döngüler uygulayın\n",
    "- hesaplamalı düşünme kavramlarını daha iyi anlamak\n",
    "\n",
    "### Problem Statement\n",
    "  \n",
    "- Given a list of strings, group anagrams together.\n",
    "Dizelerin bir listesi verildiğinde, anagramları birlikte gruplandırın.\n",
    "\n",
    "- Example:\n",
    "\n",
    "**Input:**\n",
    "```\n",
    "[\"eat\", \"tea\", \"tan\", \"ate\", \"nat\", \"bat\"],\n",
    "Output:\n",
    "[\n",
    "  [\"ate\",\"eat\",\"tea\"],\n",
    "  [\"nat\",\"tan\"],\n",
    "  [\"bat\"]\n",
    "]\n",
    "```\n",
    "Note:\n",
    "All inputs will be in lowercase.\n",
    "The order of your output does not matter.\n",
    "Not:\n",
    "Tüm girişler küçük harf olacaktır.\n",
    "Çıktınızın sırası önemli değil."
   ]
  },
  {
   "cell_type": "markdown",
   "metadata": {},
   "source": [
    "### Solution :"
   ]
  },
  {
   "cell_type": "code",
   "execution_count": 5,
   "metadata": {},
   "outputs": [
    {
     "name": "stdout",
     "output_type": "stream",
     "text": [
      "[['eat', 'tea', 'ate'], ['tan', 'nat'], ['bat'], ['cat', 'tac']]\n"
     ]
    }
   ],
   "source": [
    "strs = [\"eat\", \"tea\", \"tan\", \"ate\", \"nat\", \"bat\", \"cat\", \"tac\"]"
   ]
  },
  {
   "cell_type": "code",
   "execution_count": 18,
   "metadata": {},
   "outputs": [
    {
     "ename": "TypeError",
     "evalue": "list indices must be integers or slices, not str",
     "output_type": "error",
     "traceback": [
      "\u001b[1;31m---------------------------------------------------------------------------\u001b[0m",
      "\u001b[1;31mTypeError\u001b[0m                                 Traceback (most recent call last)",
      "Cell \u001b[1;32mIn[18], line 7\u001b[0m\n\u001b[0;32m      5\u001b[0m \u001b[39mfor\u001b[39;00m i \u001b[39min\u001b[39;00m strs:\n\u001b[0;32m      6\u001b[0m     \u001b[39mfor\u001b[39;00m j \u001b[39min\u001b[39;00m strs:\n\u001b[1;32m----> 7\u001b[0m         \u001b[39mif\u001b[39;00m strs[i]\u001b[39m==\u001b[39mstrs[j[\u001b[39m-\u001b[39m\u001b[39m1\u001b[39m]]:\n\u001b[0;32m      8\u001b[0m             k\u001b[39m.\u001b[39mappend(i)\n\u001b[0;32m      9\u001b[0m             k\u001b[39m.\u001b[39mappend(j)\n",
      "\u001b[1;31mTypeError\u001b[0m: list indices must be integers or slices, not str"
     ]
    }
   ],
   "source": [
    "strs = [\"eat\", \"tea\", \"tan\", \"ate\", \"nat\", \"bat\", \"cat\", \"tac\"]\n",
    "k=[]\n",
    "l=[]\n",
    "m=[]\n",
    "for i in strs:\n",
    "    for j in strs:\n",
    "        if strs[i]==strs[j[-1]]:\n",
    "            k.append(i)\n",
    "            k.append(j)\n"
   ]
  },
  {
   "cell_type": "code",
   "execution_count": null,
   "metadata": {},
   "outputs": [],
   "source": []
  },
  {
   "cell_type": "code",
   "execution_count": null,
   "metadata": {},
   "outputs": [],
   "source": []
  },
  {
   "cell_type": "code",
   "execution_count": null,
   "metadata": {},
   "outputs": [],
   "source": []
  }
 ],
 "metadata": {
  "kernelspec": {
   "display_name": "Python 3",
   "language": "python",
   "name": "python3"
  },
  "language_info": {
   "codemirror_mode": {
    "name": "ipython",
    "version": 3
   },
   "file_extension": ".py",
   "mimetype": "text/x-python",
   "name": "python",
   "nbconvert_exporter": "python",
   "pygments_lexer": "ipython3",
   "version": "3.11.1 (tags/v3.11.1:a7a450f, Dec  6 2022, 19:58:39) [MSC v.1934 64 bit (AMD64)]"
  },
  "vscode": {
   "interpreter": {
    "hash": "ec7e8c5f221ede34fcb59adf6ebad19b5fdf6bcf45ce6f5542b63bd5586000b8"
   }
  }
 },
 "nbformat": 4,
 "nbformat_minor": 2
}
