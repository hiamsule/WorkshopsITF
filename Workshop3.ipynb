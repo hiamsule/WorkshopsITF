{
 "cells": [
  {
   "cell_type": "markdown",
   "metadata": {},
   "source": [
    "### Problem 1\n",
    "\n",
    "Write a program that multiplies three numbers entered by the user. Print the output with the format method."
   ]
  },
  {
   "cell_type": "code",
   "execution_count": 2,
   "metadata": {},
   "outputs": [
    {
     "name": "stdout",
     "output_type": "stream",
     "text": [
      "3*4*5 = 60\n",
      "3*4*5 = 60\n"
     ]
    }
   ],
   "source": [
    "num1, num2, num3 = input(\"numbers:..\").split(\",\")\n",
    "\n",
    "output = int(num1)*int(num2)*int(num3)\n",
    "\n",
    "print(\"{}*{}*{} = {}\".format(num1, num2, num3, output))\n",
    "print(f\"{num1}*{num2}*{num3} = {output}\")"
   ]
  },
  {
   "cell_type": "markdown",
   "metadata": {},
   "source": [
    "### Problem 2\n",
    "\n",
    "Write a program that calculates body mass index from **height** and **weight** entered by the user. \n",
    "\n",
    "Body mass index :  Weight / Height(m) * Height(m)"
   ]
  },
  {
   "cell_type": "code",
   "execution_count": 7,
   "metadata": {},
   "outputs": [
    {
     "name": "stdout",
     "output_type": "stream",
     "text": [
      "Body mass index 24.69\n"
     ]
    }
   ],
   "source": [
    "# height = float(input(\"Enter your height:\"))\n",
    "# weight = int(input(\"Enter your weight:\"))\n",
    "\n",
    "# print(\"Body mass index\", weight/height**2)\n",
    "\n",
    "height = input(\"Enter your height:\")\n",
    "weight = int(input(\"Enter your weight:\"))\n",
    "\n",
    "print(\"Body mass index {:.2f}\".format(weight/eval(height)**2))"
   ]
  },
  {
   "cell_type": "markdown",
   "metadata": {},
   "source": [
    "### Problem 3\n",
    "\n",
    "With your  200 usd, how many pieces of material can you get for 11 usd each? How much money do you have left after buying?"
   ]
  },
  {
   "cell_type": "code",
   "execution_count": 8,
   "metadata": {},
   "outputs": [
    {
     "name": "stdout",
     "output_type": "stream",
     "text": [
      "Amount : 18\n",
      "Money left : 2\n"
     ]
    }
   ],
   "source": [
    "totalmoney = 200\n",
    "materialcost = 11\n",
    "amount = totalmoney//materialcost\n",
    "moneyleft = totalmoney%materialcost\n",
    "\n",
    "print(f\"Amount : {amount}\\nMoney left : {moneyleft}\")"
   ]
  },
  {
   "cell_type": "markdown",
   "metadata": {},
   "source": [
    "### Problem 4\n",
    "\n",
    "Ask the user for two numbers and assign these numbers to variables and replace the values of these variables with each other."
   ]
  },
  {
   "cell_type": "code",
   "execution_count": 10,
   "metadata": {},
   "outputs": [
    {
     "name": "stdout",
     "output_type": "stream",
     "text": [
      "num1 value = 10, num2 value = 5\n",
      "num1 new value = 5, num2 new value = 10\n"
     ]
    }
   ],
   "source": [
    "num1 = int(input(\"Enter num1:\"))\n",
    "num2 = int(input(\"Enter num2:\"))\n",
    "\n",
    "print(f\"num1 value = {num1}, num2 value = {num2}\")\n",
    "\n",
    "num1 , num2 = num2, num1\n",
    "\n",
    "print(f\"num1 new value = {num1}, num2 new value = {num2}\")"
   ]
  },
  {
   "cell_type": "markdown",
   "metadata": {},
   "source": [
    "### Problem 5\n",
    "\n",
    "Write a Python program to solve (x - y) * (x + y)."
   ]
  },
  {
   "cell_type": "code",
   "execution_count": 11,
   "metadata": {},
   "outputs": [
    {
     "name": "stdout",
     "output_type": "stream",
     "text": [
      "5 ^ 2 - 4 ^ 2 = 9\n"
     ]
    }
   ],
   "source": [
    "num1 = int(input(\"Enter num1:\"))\n",
    "num2 = int(input(\"Enter num2:\"))\n",
    "\n",
    "result = num1**2 - num2**2\n",
    "\n",
    "print(\"{} ^ 2 - {} ^ 2 = {}\".format(num1, num2, result))"
   ]
  },
  {
   "cell_type": "markdown",
   "metadata": {},
   "source": [
    "### Problem 6\n",
    "\n",
    "Get **word**, **seperator** and **repetition** values from the user and print the word on the screen according to the given values. \n",
    "\n",
    "Ex: word = ali sep = / repetition = 3 ----> ali/ali/ali"
   ]
  },
  {
   "cell_type": "code",
   "execution_count": 13,
   "metadata": {},
   "outputs": [
    {
     "name": "stdout",
     "output_type": "stream",
     "text": [
      "ali/ali/ali"
     ]
    }
   ],
   "source": [
    "word = input(\"Word: \")\n",
    "seperator = input(\"Seperator: \")\n",
    "repetitions = int(input(\"repetitions: \"))\n",
    "\n",
    "a = (word + seperator) * repetitions\n",
    "\n",
    "a = a[:-1]\n",
    "\n",
    "print(a)\n",
    "\n"
   ]
  },
  {
   "cell_type": "code",
   "execution_count": null,
   "metadata": {},
   "outputs": [],
   "source": [
    "word = input(\"Please enter a word..:\" )\n",
    "sep = input(\"Please enter a seperator..: \" )\n",
    "repetition = int(input(\"Please enter a number..: \" ))\n",
    "print((word + sep)*(repetition), end=\"\\b\")"
   ]
  },
  {
   "cell_type": "code",
   "execution_count": 14,
   "metadata": {},
   "outputs": [
    {
     "name": "stdout",
     "output_type": "stream",
     "text": [
      "ali/ali/ali\n"
     ]
    }
   ],
   "source": [
    "word = input(\"Word: \")\n",
    "seperator = input(\"Seperator: \")\n",
    "repetitions = int(input(\"repetitions: \"))\n",
    "\n",
    "a = (word + seperator) * (repetitions-1) + word\n",
    "print(a)"
   ]
  },
  {
   "cell_type": "markdown",
   "metadata": {},
   "source": [
    "### Problem 7\n",
    "\n",
    "Get a sitring and an integer input from the user and get the output shown as in the example.\n",
    "\n",
    "Ex: word = Clarusway n = 3 OUTPUT = waywayway"
   ]
  },
  {
   "cell_type": "code",
   "execution_count": 18,
   "metadata": {},
   "outputs": [
    {
     "name": "stdout",
     "output_type": "stream",
     "text": [
      "istanbulistanbulistanbulistanbulistanbulistanbulistanbulistanbulistanbulistanbul\n"
     ]
    }
   ],
   "source": [
    "word = input(\"Word: \")\n",
    "num = int(input(\"Num: \"))\n",
    "\n",
    "str1 = word[-num:]*num\n",
    "print(str1)"
   ]
  },
  {
   "cell_type": "code",
   "execution_count": 19,
   "metadata": {},
   "outputs": [
    {
     "name": "stdout",
     "output_type": "stream",
     "text": [
      "ulululululululululul\n"
     ]
    }
   ],
   "source": [
    "word=input(\"Word:\")\n",
    "n=int(input(\"Repetitions of the last n character:\"))\n",
    "\n",
    "a=len(word) # 9\n",
    "b=word[a-n:] # wurd[6:]\n",
    "print(b*n) # way*3"
   ]
  },
  {
   "cell_type": "markdown",
   "metadata": {},
   "source": [
    "### Problem 8\n",
    "\n",
    "Get a number from the user. \n",
    "\n",
    "If the number is divided by 3 print *Clarus*, if it is divided by 5 print *way*, if it is divided by both 3 and 5 print *Clarusway*. \n",
    "\n",
    "If not, print the number itself."
   ]
  },
  {
   "cell_type": "code",
   "execution_count": 31,
   "metadata": {},
   "outputs": [
    {
     "name": "stdout",
     "output_type": "stream",
     "text": [
      "True\n",
      "True\n",
      "Clarusway\n"
     ]
    }
   ],
   "source": [
    "num = int(input(\"Num: \"))\n",
    "\n",
    "print(num % 3 == 0)\n",
    "print(num % 5 == 0)\n",
    "\n",
    "sonuc = (num % 3 == 0 and num % 5 == 0 and \"Clarusway\") or (num % 3 == 0 and \"Clarus\") or (num % 5 == 0 and \"way\") or num\n",
    "print(sonuc)\n",
    "\n",
    "print(\"Clarus\" * (num % 3 == 0) + \"way\" * (num %5 == 0) or num)"
   ]
  },
  {
   "cell_type": "code",
   "execution_count": 25,
   "metadata": {},
   "outputs": [
    {
     "name": "stdout",
     "output_type": "stream",
     "text": [
      "Clarusway\n"
     ]
    }
   ],
   "source": [
    "numara = int(input(\"Bir numara giriniz..: \"))\n",
    "if numara % 15 == 0:\n",
    "    print(\"Clarusway\")\n",
    "elif numara % 5 == 0:\n",
    "    print(\"way\")\n",
    "elif numara % 3 == 0:\n",
    "    print(\"Clarus\")\n",
    "else:\n",
    "    print(numara)"
   ]
  },
  {
   "cell_type": "code",
   "execution_count": 26,
   "metadata": {},
   "outputs": [
    {
     "name": "stdout",
     "output_type": "stream",
     "text": [
      "no way\n"
     ]
    }
   ],
   "source": [
    "num = 11\n",
    "if num % 3 == 0 and num % 5 == 0:\n",
    "  print('clarusway')\n",
    "elif num % 3 == 0:\n",
    "  print('clarus')\n",
    "elif num % 5 == 0:\n",
    "  print('way')\n",
    "else:\n",
    "  print('no way')"
   ]
  },
  {
   "cell_type": "code",
   "execution_count": 27,
   "metadata": {},
   "outputs": [
    {
     "name": "stdout",
     "output_type": "stream",
     "text": [
      "11\n"
     ]
    }
   ],
   "source": [
    "number = 11\n",
    "if number % 3 == 0 and number %5 != 0:\n",
    "    print(\"Clarus\")\n",
    "elif number % 5 == 0 and number %3 != 0:\n",
    "    print(\"way\")\n",
    "elif number %15 == 0:\n",
    "    print(\"Clarusway\")\n",
    "else:\n",
    "    print(number)"
   ]
  },
  {
   "cell_type": "markdown",
   "metadata": {},
   "source": [
    "### Problem 9\n",
    "letters = \"abclarusxyz\"\n",
    "- get the word **clarus** in the string\n",
    "- get the word **cba**\n",
    "- print the last eight characters in reverse order"
   ]
  },
  {
   "cell_type": "code",
   "execution_count": 33,
   "metadata": {},
   "outputs": [
    {
     "name": "stdout",
     "output_type": "stream",
     "text": [
      "clarus\n",
      "clarus\n"
     ]
    }
   ],
   "source": [
    "letters = \"abclarusxyz\"\n",
    "print(letters[2:8])\n",
    "\n",
    "print(letters.strip(\"abxyz\"))"
   ]
  },
  {
   "cell_type": "code",
   "execution_count": 42,
   "metadata": {},
   "outputs": [
    {
     "name": "stdout",
     "output_type": "stream",
     "text": [
      "cba\n",
      "cba\n",
      "cba\n",
      "cba\n"
     ]
    }
   ],
   "source": [
    "letters = \"abclarusxyz\"\n",
    "print(letters[2::-1])\n",
    "print(letters[-9::-1])\n",
    "\n",
    "a = list(letters)[:3]\n",
    "a.reverse()\n",
    "print(\"\".join(a))\n",
    "\n",
    "a = reversed(list(letters)[:3])\n",
    "print(\"\".join(a))"
   ]
  },
  {
   "cell_type": "code",
   "execution_count": 46,
   "metadata": {},
   "outputs": [
    {
     "name": "stdout",
     "output_type": "stream",
     "text": [
      "zyxsural\n",
      "zyxsural\n",
      "zyxsural\n",
      "zyxsural\n"
     ]
    }
   ],
   "source": [
    "letters = \"abclarusxyz\"\n",
    "print(letters[:-9:-1])\n",
    "print(letters[-1:-9:-1])\n",
    "\n",
    "a = list(letters)[3:]\n",
    "a.reverse()\n",
    "print(\"\".join(a))\n",
    "\n",
    "b = letters.replace(\"abc\",\"\")\n",
    "print(b[::-1])"
   ]
  },
  {
   "cell_type": "markdown",
   "metadata": {},
   "source": [
    "### Problem 10\n",
    "\n",
    "Print **Clarusway is the best** from the elements of the rand_list list.\n",
    "\n",
    "rand_list = [1,[1, 2, \"Clarus\", [2, \"way\"]], \" is the best\"]"
   ]
  },
  {
   "cell_type": "code",
   "execution_count": 49,
   "metadata": {},
   "outputs": [
    {
     "name": "stdout",
     "output_type": "stream",
     "text": [
      "Clarusway is the best\n"
     ]
    }
   ],
   "source": [
    "rand_list = [1,[1, 2, \"Clarus\", [2, \"way\"]], \" is the best\"]\n",
    "print(rand_list[1][2] + rand_list[1][3][1] + rand_list[2])"
   ]
  },
  {
   "cell_type": "markdown",
   "metadata": {},
   "source": [
    "### Problem 11\n",
    "\n",
    "Write a Python program to compute average of two given lists.\n",
    "\n",
    "nums1 = [1, 1, 3, 4, 4, 5, 6, 7]\n",
    "nums2 = [0, 1, 2, 3, 4, 4, 5, 7, 8]"
   ]
  },
  {
   "cell_type": "code",
   "execution_count": 50,
   "metadata": {},
   "outputs": [
    {
     "name": "stdout",
     "output_type": "stream",
     "text": [
      "Average of the lists: 3.823529411764706\n"
     ]
    }
   ],
   "source": [
    "nums1 = [1, 1, 3, 4, 4, 5, 6, 7]\n",
    "nums2 = [0, 1, 2, 3, 4, 4, 5, 7, 8]\n",
    "\n",
    "result = sum(nums1 + nums2) / len(nums1 + nums2)\n",
    "\n",
    "print(\"Average of the lists:\", result)"
   ]
  },
  {
   "cell_type": "code",
   "execution_count": 51,
   "metadata": {},
   "outputs": [
    {
     "name": "stdout",
     "output_type": "stream",
     "text": [
      "[1, 1, 3, 4, 4, 5, 6, 7, 0, 1, 2, 3, 4, 4, 5, 7, 8]\n",
      "3.823529411764706\n"
     ]
    }
   ],
   "source": [
    "nums1 = [1, 1, 3, 4, 4, 5, 6, 7]\n",
    "nums2 = [0, 1, 2, 3, 4, 4, 5, 7, 8]\n",
    "nums1.extend(nums2)\n",
    "print(nums1)\n",
    "print(sum(nums1)/len(nums1))"
   ]
  },
  {
   "cell_type": "code",
   "execution_count": 52,
   "metadata": {},
   "outputs": [
    {
     "name": "stdout",
     "output_type": "stream",
     "text": [
      "[1, 1, 3, 4, 4, 5, 6, 7, 0, 1, 2, 3, 4, 4, 5, 7, 8]\n",
      "average: 3.823529411764706\n"
     ]
    }
   ],
   "source": [
    "nums1 = [1,1,3,4,4,5,6,7]\n",
    "nums2 = [0,1,2,3,4,4,5,7,8]\n",
    "nums1.extend(nums2)\n",
    "print(nums1)\n",
    "total = 0\n",
    "for i in nums1:\n",
    "  total = total + i\n",
    "print(\"average:\", total/len(nums1))"
   ]
  },
  {
   "attachments": {},
   "cell_type": "markdown",
   "metadata": {},
   "source": [
    "### Problem 12\n",
    "\n",
    "Sort the list given below in ascending order. Find the missing number from 1 to 10.\n",
    "\n",
    "num_list = [2, 3, 1, 5, 6, 4, 9, 8, 10]"
   ]
  },
  {
   "cell_type": "code",
   "execution_count": 62,
   "metadata": {},
   "outputs": [
    {
     "name": "stdout",
     "output_type": "stream",
     "text": [
      "[1, 2, 3, 4, 5, 6, 8, 9, 10]\n",
      "[1, 2, 3, 4, 5, 6, 8, 9, 10]\n",
      "{7}\n",
      "{7}\n"
     ]
    }
   ],
   "source": [
    "num_list = [2, 3, 1, 5, 6, 4, 9, 8, 10]\n",
    "\n",
    "a = sorted(num_list)\n",
    "print(a)\n",
    "\n",
    "num_list.sort()\n",
    "print(num_list)\n",
    "\n",
    "rangelist = set(range(1, 11))\n",
    "num_list2 = set(num_list)\n",
    "\n",
    "print(rangelist - num_list2)\n",
    "print(rangelist.difference(num_list2))"
   ]
  },
  {
   "attachments": {},
   "cell_type": "markdown",
   "metadata": {},
   "source": [
    "### Problem 13\n",
    "\n",
    "Print the oldest person's name?"
   ]
  },
  {
   "cell_type": "code",
   "execution_count": 87,
   "metadata": {},
   "outputs": [
    {
     "name": "stdout",
     "output_type": "stream",
     "text": [
      "None\n"
     ]
    }
   ],
   "source": [
    "old ={\n",
    "  \"Emma\": 71,\n",
    "  \"Jack\": 45,\n",
    "  \"Amy\": 15,\n",
    "  \"Ben\": 29\n",
    "}\n",
    "\n",
    "maxage = max(old.values())\n",
    "old.setdefault(\"\", 71)\n",
    "print(old.get(71))\n",
    "# maxname = max(old.keys())\n",
    "\n",
    "# print(maxage)\n",
    "\n",
    "\n"
   ]
  },
  {
   "cell_type": "code",
   "execution_count": 91,
   "metadata": {},
   "outputs": [
    {
     "name": "stdout",
     "output_type": "stream",
     "text": [
      "Jack\n",
      "Emma\n"
     ]
    }
   ],
   "source": [
    "old ={\n",
    "  \"Emma\": 71,\n",
    "  \"Jack\": 45,\n",
    "  \"Amy\": 15,\n",
    "  \"Ben\": 29\n",
    "}\n",
    "\n",
    "print(max(old))\n",
    "print(max(old, key=old.get))\n"
   ]
  },
  {
   "attachments": {},
   "cell_type": "markdown",
   "metadata": {},
   "source": [
    "### Problem 14\n",
    "\n",
    "Write a Python program to sum all the items in a dictionary.\n",
    "\n",
    "my_dict = {'data1':100,'data2':-54,'data3':247}"
   ]
  },
  {
   "cell_type": "code",
   "execution_count": 81,
   "metadata": {},
   "outputs": [
    {
     "name": "stdout",
     "output_type": "stream",
     "text": [
      "dict_values([100, -54, 247])\n",
      "293\n",
      "46\n",
      "61\n",
      "150\n",
      "50\n"
     ]
    }
   ],
   "source": [
    "my_dict = {'data1':100,'data2':-54,'data3':247}\n",
    "\n",
    "print(my_dict.values())\n",
    "print(sum(my_dict.values()))\n",
    "# print(sum(my_dict[\"data1\"],my_dict[\"data2\"],my_dict[\"data3\"]))\n",
    "a = [10, 20, 30]\n",
    "b = (20, 30)\n",
    "\n",
    "print(my_dict[\"data1\"] + my_dict[\"data2\"])\n",
    "print(sum(a, 1))\n",
    "print(sum(b, 100))\n",
    "print(sum(b))"
   ]
  }
 ],
 "metadata": {
  "kernelspec": {
   "display_name": "Python 3",
   "language": "python",
   "name": "python3"
  },
  "language_info": {
   "codemirror_mode": {
    "name": "ipython",
    "version": 3
   },
   "file_extension": ".py",
   "mimetype": "text/x-python",
   "name": "python",
   "nbconvert_exporter": "python",
   "pygments_lexer": "ipython3",
   "version": "3.11.1 (tags/v3.11.1:a7a450f, Dec  6 2022, 19:58:39) [MSC v.1934 64 bit (AMD64)]"
  },
  "vscode": {
   "interpreter": {
    "hash": "ec7e8c5f221ede34fcb59adf6ebad19b5fdf6bcf45ce6f5542b63bd5586000b8"
   }
  }
 },
 "nbformat": 4,
 "nbformat_minor": 2
}
